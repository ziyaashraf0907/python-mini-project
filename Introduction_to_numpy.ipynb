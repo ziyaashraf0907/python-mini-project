{
  "nbformat": 4,
  "nbformat_minor": 0,
  "metadata": {
    "colab": {
      "provenance": [],
      "authorship_tag": "ABX9TyMav37axGg7Pa9zgYpyOkGG",
      "include_colab_link": true
    },
    "kernelspec": {
      "name": "python3",
      "display_name": "Python 3"
    },
    "language_info": {
      "name": "python"
    }
  },
  "cells": [
    {
      "cell_type": "markdown",
      "metadata": {
        "id": "view-in-github",
        "colab_type": "text"
      },
      "source": [
        "<a href=\"https://colab.research.google.com/github/ziyaashraf0907/python-mini-project/blob/main/Introduction_to_numpy.ipynb\" target=\"_parent\"><img src=\"https://colab.research.google.com/assets/colab-badge.svg\" alt=\"Open In Colab\"/></a>"
      ]
    },
    {
      "cell_type": "code",
      "source": [
        "\n",
        "#Numpy - Numeric Python\n",
        "#Most powerful package - Library\n",
        "\n",
        "#Numpy- Dimensions\n",
        "\n",
        "#A - One Dimensional Array\n",
        "#[A,B] || [A\n",
        "#.         B] - Two Dimensional Array - Row || Column\n",
        "\n",
        "#Three Dimensional\n",
        "\n",
        "#Array- Storing,Manipulating, Similar Data Type\n",
        "\n",
        "#Faster than sny mathematical functions\n",
        "#convinient compared to other packages.\n",
        "#Memory Efficiency\n",
        "#Support multi dimensional arrays\n",
        "\n",
        "#speed(Numpy operations) >speed,(Lists operations)\n",
        "#size(Numpy operations) < size(Lists operationns)\n",
        "#Memory Optimization (Numpy) > Memory Optimisation (List operations)"
      ],
      "metadata": {
        "id": "K-yxUbmrQqMA"
      },
      "execution_count": 17,
      "outputs": []
    },
    {
      "cell_type": "code",
      "execution_count": 16,
      "metadata": {
        "id": "4uIjRtyRO0ze"
      },
      "outputs": [],
      "source": [
        "#Install numpy - pip3 install numpy // pip install numpy"
      ]
    },
    {
      "cell_type": "code",
      "source": [
        "import numpy as np"
      ],
      "metadata": {
        "id": "-EGfW8CCPVQZ"
      },
      "execution_count": 2,
      "outputs": []
    },
    {
      "cell_type": "code",
      "source": [
        "\n",
        "#Create a numpy array\n",
        "# ID array\n",
        "\n",
        "arrID = np.array([1,2,3,4,5])\n",
        "print(arrID)"
      ],
      "metadata": {
        "colab": {
          "base_uri": "https://localhost:8080/"
        },
        "id": "lEJFpXowPYhV",
        "outputId": "932c97cb-cb41-47bb-f491-fbdcbb47bfce"
      },
      "execution_count": 3,
      "outputs": [
        {
          "output_type": "stream",
          "name": "stdout",
          "text": [
            "[1 2 3 4 5]\n"
          ]
        }
      ]
    },
    {
      "cell_type": "code",
      "source": [
        "\n",
        "#creating 2D array - Matrix\n",
        "arr2D = np.array([\n",
        "    [0,0,0],[0,0,0]\n",
        "\n",
        "])"
      ],
      "metadata": {
        "id": "W1UHz_AjPb5V"
      },
      "execution_count": 4,
      "outputs": []
    },
    {
      "cell_type": "code",
      "source": [
        "print(arr2D)"
      ],
      "metadata": {
        "colab": {
          "base_uri": "https://localhost:8080/"
        },
        "id": "3sWPqeYyPjIK",
        "outputId": "e9c93d35-e39f-4fcf-e738-9e856f930b81"
      },
      "execution_count": 5,
      "outputs": [
        {
          "output_type": "stream",
          "name": "stdout",
          "text": [
            "[[0 0 0]\n",
            " [0 0 0]]\n"
          ]
        }
      ]
    },
    {
      "cell_type": "code",
      "source": [
        "\n",
        "#creating arrays with default values\n",
        "\n",
        "#Creating matrix with all elements as '0\n",
        "\n",
        "\n",
        "allZeroes = np.zeros([2,3])\n",
        "print(allZeroes)\n",
        "\n",
        "#Creating matrix with all values of elements as '1'\n",
        "allOnes = np.ones([2,3])\n",
        "print(allOnes)\n",
        "\n",
        "#Creating matrix with all value of elements 'constant value - n - Fill value'\n",
        "\n",
        "allConstant = np.full([2,3],6)\n",
        "print(allConstant)"
      ],
      "metadata": {
        "colab": {
          "base_uri": "https://localhost:8080/"
        },
        "id": "UQqNbj5HPnZm",
        "outputId": "abf258ce-19d9-4411-96f1-e6a82af1c6d5"
      },
      "execution_count": 6,
      "outputs": [
        {
          "output_type": "stream",
          "name": "stdout",
          "text": [
            "[[0. 0. 0.]\n",
            " [0. 0. 0.]]\n",
            "[[1. 1. 1.]\n",
            " [1. 1. 1.]]\n",
            "[[6 6 6]\n",
            " [6 6 6]]\n"
          ]
        }
      ]
    },
    {
      "cell_type": "code",
      "source": [
        "\n",
        "#Create an identity matrix - I\n",
        "\n",
        "Identity = np.eye(4)\n",
        "print(Identity)\n",
        "\n",
        "#Identity Matrix - Aij = 1 && Aij = 0\n",
        "#For all A Belongs to R MxN\n",
        "#Aij -"
      ],
      "metadata": {
        "colab": {
          "base_uri": "https://localhost:8080/"
        },
        "id": "XDDCFfS6PqTo",
        "outputId": "c7dff1c1-b54a-457e-d835-a0426c612141"
      },
      "execution_count": 7,
      "outputs": [
        {
          "output_type": "stream",
          "name": "stdout",
          "text": [
            "[[1. 0. 0. 0.]\n",
            " [0. 1. 0. 0.]\n",
            " [0. 0. 1. 0.]\n",
            " [0. 0. 0. 1.]]\n"
          ]
        }
      ]
    },
    {
      "cell_type": "code",
      "source": [
        "\n",
        "#Array properties\n",
        "\n",
        "arr = np.array([[1,2,3,4],[2,3,4,5]])\n",
        "print(arr)\n",
        "\n",
        "#Shape of array\n",
        "print(f'\\nThe shape of the array is {arr.shape}')\n",
        "\n",
        "#Size of array\n",
        "print(f'\\nThe size of the array is {arr.size}')\n",
        "#Datatype\n",
        "print(f'\\nThe Datatype of the array is {arr.dtype}')\n",
        "\n",
        "#Dimensions of array\n",
        "print(f'\\nThe Dimensions of the array is {arr.ndim}')"
      ],
      "metadata": {
        "colab": {
          "base_uri": "https://localhost:8080/"
        },
        "id": "eCLccH2SPx-L",
        "outputId": "6b658556-0012-4a55-bb2b-c866c3a56a23"
      },
      "execution_count": 8,
      "outputs": [
        {
          "output_type": "stream",
          "name": "stdout",
          "text": [
            "[[1 2 3 4]\n",
            " [2 3 4 5]]\n",
            "\n",
            "The shape of the array is (2, 4)\n",
            "\n",
            "The size of the array is 8\n",
            "\n",
            "The Datatype of the array is int64\n",
            "\n",
            "The Dimensions of the array is 2\n"
          ]
        }
      ]
    },
    {
      "cell_type": "code",
      "source": [
        "\n",
        "#Creating random Matrices\n",
        "\n",
        "# between  0 and 1\n",
        "rand1 = np.random.rand(3,3)\n",
        "print(rand1)\n",
        "\n",
        "#between a and b\n",
        "rand2 = np.random.randint(10,20,(3,3))\n",
        "print(rand2)"
      ],
      "metadata": {
        "colab": {
          "base_uri": "https://localhost:8080/"
        },
        "id": "z4PF_IIOP3da",
        "outputId": "6cc231ab-7111-40bc-9ee0-bef9defd5f97"
      },
      "execution_count": 9,
      "outputs": [
        {
          "output_type": "stream",
          "name": "stdout",
          "text": [
            "[[0.95917027 0.66660366 0.19942777]\n",
            " [0.61777461 0.15117981 0.13145836]\n",
            " [0.32049232 0.08008878 0.23088971]]\n",
            "[[14 16 19]\n",
            " [10 18 15]\n",
            " [17 15 12]]\n"
          ]
        }
      ]
    },
    {
      "cell_type": "code",
      "source": [
        "\n",
        "#indexing and Slicing\n",
        "\n",
        "#Access the elements in 1D Array\n",
        "arr = np.array([1,2,3,4])\n",
        "print(arr)\n",
        "print(arr[3])\n",
        "\n",
        "#Slicing the elements\n",
        "\n",
        "print(arr[0:3])\n",
        "\n",
        "# Access the element in 2D array\n",
        "arr2 = np.array([[1,2,3],[2,3,4]])\n",
        "print(arr2)\n",
        "\n",
        "print(arr2[1,1])\n",
        "print(arr2[0,:]) # first row with all columns\n",
        "print(arr2[:,0]) # first column with all rows"
      ],
      "metadata": {
        "colab": {
          "base_uri": "https://localhost:8080/"
        },
        "id": "MA6xaU68P4-Y",
        "outputId": "2f393f8b-d067-49f7-e8fa-c9bcb52d1318"
      },
      "execution_count": 10,
      "outputs": [
        {
          "output_type": "stream",
          "name": "stdout",
          "text": [
            "[1 2 3 4]\n",
            "4\n",
            "[1 2 3]\n",
            "[[1 2 3]\n",
            " [2 3 4]]\n",
            "3\n",
            "[1 2 3]\n",
            "[1 2]\n"
          ]
        }
      ]
    },
    {
      "cell_type": "code",
      "source": [
        "\n",
        "#l1 = []\n",
        "#[l1.append(_) for _ in range(10)]\n",
        "\n",
        "l1 = np.arange(10,-10,-3)\n",
        "\n",
        "print(l1)"
      ],
      "metadata": {
        "colab": {
          "base_uri": "https://localhost:8080/"
        },
        "id": "jYqNMVp8QABV",
        "outputId": "229a6807-7053-4050-8815-cd094863d7a0"
      },
      "execution_count": 11,
      "outputs": [
        {
          "output_type": "stream",
          "name": "stdout",
          "text": [
            "[10  7  4  1 -2 -5 -8]\n"
          ]
        }
      ]
    },
    {
      "cell_type": "code",
      "source": [
        "\n",
        "#Mathematical operations\n",
        "\n",
        "a = np.array([1,2,3])\n",
        "b = np.array([3,4,5])\n",
        "\n",
        "print(f'The sum of a and b is { a+b}')\n",
        "print(f'The difference of a and b is {a-b}')\n",
        "print(f'The product of a and b is {a*b}')\n",
        "print(f'The division of a and b is {a/b}')"
      ],
      "metadata": {
        "colab": {
          "base_uri": "https://localhost:8080/"
        },
        "id": "2bB0UJYaQKN3",
        "outputId": "615de13c-020c-4b78-a486-50d1a8abf81d"
      },
      "execution_count": 12,
      "outputs": [
        {
          "output_type": "stream",
          "name": "stdout",
          "text": [
            "The sum of a and b is [4 6 8]\n",
            "The difference of a and b is [-2 -2 -2]\n",
            "The product of a and b is [ 3  8 15]\n",
            "The division of a and b is [0.33333333 0.5        0.6       ]\n"
          ]
        }
      ]
    },
    {
      "cell_type": "code",
      "source": [
        "\n",
        "#Matrix Multiplication\n",
        "b1 = np.array([[1,2,3],[2,3,4]])\n",
        "b2 = np.array([[5,6],[7,8],[1,3]])\n",
        "\n",
        "#Dot product --- product = AB ---A. m x n --- B n x p\n",
        "c = np.dot(b1,b2)\n",
        "print(c)"
      ],
      "metadata": {
        "colab": {
          "base_uri": "https://localhost:8080/"
        },
        "id": "MmkC-c6eQL25",
        "outputId": "eec1f86c-9c72-4abf-d145-0235c476d581"
      },
      "execution_count": 13,
      "outputs": [
        {
          "output_type": "stream",
          "name": "stdout",
          "text": [
            "[[22 31]\n",
            " [35 48]]\n"
          ]
        }
      ]
    },
    {
      "cell_type": "code",
      "source": [
        "print(b1)"
      ],
      "metadata": {
        "colab": {
          "base_uri": "https://localhost:8080/"
        },
        "id": "nypsZv2DQPww",
        "outputId": "02e20245-f475-415e-8f1f-d4fb48f6e75a"
      },
      "execution_count": 14,
      "outputs": [
        {
          "output_type": "stream",
          "name": "stdout",
          "text": [
            "[[1 2 3]\n",
            " [2 3 4]]\n"
          ]
        }
      ]
    },
    {
      "cell_type": "code",
      "source": [
        "print(b2)"
      ],
      "metadata": {
        "colab": {
          "base_uri": "https://localhost:8080/"
        },
        "id": "lofyScSVQSsU",
        "outputId": "b02c0e10-a06e-4e46-8ade-cf5b1a1e564e"
      },
      "execution_count": 15,
      "outputs": [
        {
          "output_type": "stream",
          "name": "stdout",
          "text": [
            "[[5 6]\n",
            " [7 8]\n",
            " [1 3]]\n"
          ]
        }
      ]
    }
  ]
}