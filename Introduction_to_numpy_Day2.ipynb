{
  "nbformat": 4,
  "nbformat_minor": 0,
  "metadata": {
    "colab": {
      "provenance": [],
      "authorship_tag": "ABX9TyORd3otE7pMTjmhZs+hG9gb",
      "include_colab_link": true
    },
    "kernelspec": {
      "name": "python3",
      "display_name": "Python 3"
    },
    "language_info": {
      "name": "python"
    }
  },
  "cells": [
    {
      "cell_type": "markdown",
      "metadata": {
        "id": "view-in-github",
        "colab_type": "text"
      },
      "source": [
        "<a href=\"https://colab.research.google.com/github/ziyaashraf0907/python-mini-project/blob/main/Introduction_to_numpy_Day2.ipynb\" target=\"_parent\"><img src=\"https://colab.research.google.com/assets/colab-badge.svg\" alt=\"Open In Colab\"/></a>"
      ]
    },
    {
      "cell_type": "code",
      "source": [
        "import numpy as np"
      ],
      "metadata": {
        "id": "OgIrKB7DbtXH"
      },
      "execution_count": 1,
      "outputs": []
    },
    {
      "cell_type": "code",
      "source": [
        "arr=np.array([[1,2,3],[4,5,6]])"
      ],
      "metadata": {
        "id": "5qbQmKAJch4P"
      },
      "execution_count": 2,
      "outputs": []
    },
    {
      "cell_type": "code",
      "source": [
        "type(arr)"
      ],
      "metadata": {
        "colab": {
          "base_uri": "https://localhost:8080/"
        },
        "id": "FzckxUcac1IP",
        "outputId": "91f97787-ba94-46a0-f523-b01439f38844"
      },
      "execution_count": 3,
      "outputs": [
        {
          "output_type": "execute_result",
          "data": {
            "text/plain": [
              "numpy.ndarray"
            ]
          },
          "metadata": {},
          "execution_count": 3
        }
      ]
    },
    {
      "cell_type": "code",
      "source": [
        "#Dot product - m×p||n×p\n",
        "arr1=np.random.randint(1,2,(1,2))"
      ],
      "metadata": {
        "id": "R5BlKZfGdEex"
      },
      "execution_count": 4,
      "outputs": []
    },
    {
      "cell_type": "code",
      "source": [
        "arr.shape\n",
        "arr1.shape"
      ],
      "metadata": {
        "colab": {
          "base_uri": "https://localhost:8080/"
        },
        "id": "gbuO_XLidaTO",
        "outputId": "8d7d2846-b3a7-4338-dae6-d602d62a5598"
      },
      "execution_count": 5,
      "outputs": [
        {
          "output_type": "execute_result",
          "data": {
            "text/plain": [
              "(1, 2)"
            ]
          },
          "metadata": {},
          "execution_count": 5
        }
      ]
    },
    {
      "cell_type": "code",
      "source": [
        "result=np.dot(arr1,arr)"
      ],
      "metadata": {
        "id": "UbpU2ZWudgVK"
      },
      "execution_count": 6,
      "outputs": []
    },
    {
      "cell_type": "code",
      "source": [
        "print(result)"
      ],
      "metadata": {
        "colab": {
          "base_uri": "https://localhost:8080/"
        },
        "id": "HMeoPLV8dukp",
        "outputId": "3ea5d7f3-6e2e-4105-f4bf-17a1f66ed55a"
      },
      "execution_count": 7,
      "outputs": [
        {
          "output_type": "stream",
          "name": "stdout",
          "text": [
            "[[5 7 9]]\n"
          ]
        }
      ]
    },
    {
      "cell_type": "code",
      "source": [
        "r1=np.random.randint(10,30,(3,3))"
      ],
      "metadata": {
        "id": "cC_EN4rBdzB5"
      },
      "execution_count": 8,
      "outputs": []
    },
    {
      "cell_type": "code",
      "source": [
        "print(r1)"
      ],
      "metadata": {
        "colab": {
          "base_uri": "https://localhost:8080/"
        },
        "id": "ofS61ne5d_zY",
        "outputId": "29faff92-ff0e-4945-a474-34ce22ded2f9"
      },
      "execution_count": 9,
      "outputs": [
        {
          "output_type": "stream",
          "name": "stdout",
          "text": [
            "[[17 22 10]\n",
            " [20 19 10]\n",
            " [20 10 22]]\n"
          ]
        }
      ]
    },
    {
      "cell_type": "code",
      "source": [
        "r2=np.eye(3)"
      ],
      "metadata": {
        "id": "snbcSTvLeFjE"
      },
      "execution_count": 10,
      "outputs": []
    },
    {
      "cell_type": "code",
      "source": [
        "print(r2)"
      ],
      "metadata": {
        "colab": {
          "base_uri": "https://localhost:8080/"
        },
        "id": "9pA9HJLbeL_x",
        "outputId": "83e3f813-aed6-47ee-b5c7-5da6f0b2834a"
      },
      "execution_count": 11,
      "outputs": [
        {
          "output_type": "stream",
          "name": "stdout",
          "text": [
            "[[1. 0. 0.]\n",
            " [0. 1. 0.]\n",
            " [0. 0. 1.]]\n"
          ]
        }
      ]
    },
    {
      "cell_type": "code",
      "source": [
        "#r1.I\n",
        "result=np.dot(r2,r1)\n",
        "print(result)"
      ],
      "metadata": {
        "colab": {
          "base_uri": "https://localhost:8080/"
        },
        "id": "2_LVdY2geQhr",
        "outputId": "c1e77465-d36b-4e4f-f711-73f86338fdfa"
      },
      "execution_count": 14,
      "outputs": [
        {
          "output_type": "stream",
          "name": "stdout",
          "text": [
            "[[17. 22. 10.]\n",
            " [20. 19. 10.]\n",
            " [20. 10. 22.]]\n"
          ]
        }
      ]
    },
    {
      "cell_type": "code",
      "source": [
        "#Mathematical Operations\n",
        "#+,*,-,/\n",
        "t1=np.random.randint(3,6,(3,3))\n",
        "t2=np.random.randint(3,6,(3,3))"
      ],
      "metadata": {
        "id": "dUvgR8jbemWQ"
      },
      "execution_count": 17,
      "outputs": []
    },
    {
      "cell_type": "code",
      "source": [
        "print(t1)\n",
        "print(t2)"
      ],
      "metadata": {
        "colab": {
          "base_uri": "https://localhost:8080/"
        },
        "id": "CbpQG6yNfNSM",
        "outputId": "54c34172-250d-4a3e-8593-ef8096e18bcf"
      },
      "execution_count": 18,
      "outputs": [
        {
          "output_type": "stream",
          "name": "stdout",
          "text": [
            "[[4 5 3]\n",
            " [3 5 5]\n",
            " [5 4 5]]\n",
            "[[5 5 3]\n",
            " [5 3 3]\n",
            " [3 3 3]]\n"
          ]
        }
      ]
    },
    {
      "cell_type": "code",
      "source": [
        "t3=t1+t2\n",
        "print(t3)"
      ],
      "metadata": {
        "colab": {
          "base_uri": "https://localhost:8080/"
        },
        "id": "6I4aBj3MfULO",
        "outputId": "31553c19-74fb-4fdd-f2e1-8fb5be341544"
      },
      "execution_count": 19,
      "outputs": [
        {
          "output_type": "stream",
          "name": "stdout",
          "text": [
            "[[ 9 10  6]\n",
            " [ 8  8  8]\n",
            " [ 8  7  8]]\n"
          ]
        }
      ]
    },
    {
      "cell_type": "code",
      "source": [
        "#Matrix Multiplication\n",
        "result=np.dot(arr1,arr)"
      ],
      "metadata": {
        "id": "_tZIBwlZfhAQ"
      },
      "execution_count": 20,
      "outputs": []
    },
    {
      "cell_type": "code",
      "source": [
        "#Statistical Operations\n",
        "mean=t3.mean()\n",
        "max=t3.max()\n",
        "median=np.median(t3)\n",
        "std=np.std(t3)\n",
        "var=np.var(t3)"
      ],
      "metadata": {
        "id": "9g8byfbYfzz1"
      },
      "execution_count": 25,
      "outputs": []
    },
    {
      "cell_type": "code",
      "source": [
        "print(max)"
      ],
      "metadata": {
        "colab": {
          "base_uri": "https://localhost:8080/"
        },
        "id": "wn16jB_ugs3b",
        "outputId": "f3261a20-444f-4dc9-b16a-0641ee989fbb"
      },
      "execution_count": 23,
      "outputs": [
        {
          "output_type": "stream",
          "name": "stdout",
          "text": [
            "10\n"
          ]
        }
      ]
    },
    {
      "cell_type": "code",
      "source": [
        "print(median)"
      ],
      "metadata": {
        "colab": {
          "base_uri": "https://localhost:8080/"
        },
        "id": "qYsopHl0gxhp",
        "outputId": "2b83ecaa-b4c4-4a27-dce0-a13d9c038896"
      },
      "execution_count": 26,
      "outputs": [
        {
          "output_type": "stream",
          "name": "stdout",
          "text": [
            "8.0\n"
          ]
        }
      ]
    },
    {
      "cell_type": "code",
      "source": [
        "print(std)"
      ],
      "metadata": {
        "colab": {
          "base_uri": "https://localhost:8080/"
        },
        "id": "Qh5_ZZYwg_VL",
        "outputId": "950b723a-f229-4b92-8fde-1d18fba87441"
      },
      "execution_count": 27,
      "outputs": [
        {
          "output_type": "stream",
          "name": "stdout",
          "text": [
            "1.0540925533894598\n"
          ]
        }
      ]
    },
    {
      "cell_type": "code",
      "source": [
        "print(var)"
      ],
      "metadata": {
        "colab": {
          "base_uri": "https://localhost:8080/"
        },
        "id": "IPUW5cTXhEIl",
        "outputId": "b631f768-a87d-4776-d366-c7cadf85fd4b"
      },
      "execution_count": 28,
      "outputs": [
        {
          "output_type": "stream",
          "name": "stdout",
          "text": [
            "1.1111111111111112\n"
          ]
        }
      ]
    },
    {
      "cell_type": "code",
      "source": [
        "std*std"
      ],
      "metadata": {
        "colab": {
          "base_uri": "https://localhost:8080/"
        },
        "id": "rA2UlaU1hHNx",
        "outputId": "d46983ca-1a38-4945-868d-1d217fbc0735"
      },
      "execution_count": 29,
      "outputs": [
        {
          "output_type": "execute_result",
          "data": {
            "text/plain": [
              "1.1111111111111112"
            ]
          },
          "metadata": {},
          "execution_count": 29
        }
      ]
    },
    {
      "cell_type": "code",
      "source": [
        "\n",
        "\n",
        "#Trignometry Functions\n",
        "#Sin(x)\n",
        "#cos(x)\n",
        "#tan-sin(x)/cos(x)\n",
        "#Cosec-1/sin(x)\n",
        "#sec-1/cos(x)\n",
        "#cot-1/tan(x)\n",
        "angles=np.array([10,15,30,45,60,75,90])\n",
        "\n",
        "#sin(array)\n",
        "\n",
        "result=np.sin(np.radians(angles))\n",
        "result1=np.cos(np.radians(angles))\n",
        "result2=np.tan(np.radians(angles))"
      ],
      "metadata": {
        "id": "emDSlX02hNX4"
      },
      "execution_count": 31,
      "outputs": []
    },
    {
      "cell_type": "code",
      "source": [
        "print(result)\n",
        "print(result1)\n",
        "print(result2)"
      ],
      "metadata": {
        "colab": {
          "base_uri": "https://localhost:8080/"
        },
        "id": "3lT1MvuCi3TF",
        "outputId": "4d4f1df0-a1e8-4da6-abd5-f8c7431009a7"
      },
      "execution_count": 34,
      "outputs": [
        {
          "output_type": "stream",
          "name": "stdout",
          "text": [
            "[0.17364818 0.25881905 0.5        0.70710678 0.8660254  0.96592583\n",
            " 1.        ]\n",
            "[9.84807753e-01 9.65925826e-01 8.66025404e-01 7.07106781e-01\n",
            " 5.00000000e-01 2.58819045e-01 6.12323400e-17]\n",
            "[1.76326981e-01 2.67949192e-01 5.77350269e-01 1.00000000e+00\n",
            " 1.73205081e+00 3.73205081e+00 1.63312394e+16]\n"
          ]
        }
      ]
    },
    {
      "cell_type": "code",
      "source": [
        "arr=np.array([1,2,3,4,5,6])\n",
        "#Reshape the array\n",
        "reshapedarr=arr.reshape(2,3)\n",
        "print(reshapedarr)"
      ],
      "metadata": {
        "colab": {
          "base_uri": "https://localhost:8080/"
        },
        "id": "qzk3AYQwjNnK",
        "outputId": "dd50a70e-7363-4dbb-9ac4-6f38de661fc8"
      },
      "execution_count": 35,
      "outputs": [
        {
          "output_type": "stream",
          "name": "stdout",
          "text": [
            "[[1 2 3]\n",
            " [4 5 6]]\n"
          ]
        }
      ]
    },
    {
      "cell_type": "code",
      "source": [
        "reshapedarr=arr.reshape(3,2)\n",
        "print(reshapedarr)"
      ],
      "metadata": {
        "colab": {
          "base_uri": "https://localhost:8080/"
        },
        "id": "uB0KodKojves",
        "outputId": "34e35bed-1d11-4800-a3df-7799561cb319"
      },
      "execution_count": 37,
      "outputs": [
        {
          "output_type": "stream",
          "name": "stdout",
          "text": [
            "[[1 2]\n",
            " [3 4]\n",
            " [5 6]]\n"
          ]
        }
      ]
    },
    {
      "cell_type": "code",
      "source": [
        "#Convert/fatten any n dim array\n",
        "flattenedarr=arr.flatten()\n",
        "print(flattenedarr)"
      ],
      "metadata": {
        "colab": {
          "base_uri": "https://localhost:8080/"
        },
        "id": "H2DVKaV2kCLy",
        "outputId": "bfcafa16-8d82-46ea-bec2-1e073e398169"
      },
      "execution_count": 40,
      "outputs": [
        {
          "output_type": "stream",
          "name": "stdout",
          "text": [
            "[1 2 3 4 5 6]\n"
          ]
        }
      ]
    },
    {
      "cell_type": "code",
      "source": [
        "#Stackking the datai\n",
        "arr1=np.array([1,2,3,4])\n",
        "arr2=np.array([10,20,30,40])\n",
        "\n",
        "#Vertical Stackking\n",
        "arr3=np.vstack((arr1,arr2))\n",
        "print(f'The shape of arr3 is {arr3.shape}')\n",
        "#Horizantal Stacking\n",
        "arr4=np.hstack((arr1,arr2))\n",
        "print(f'The shape of arr4 is {arr4.shape}')\n",
        "print(arr4)"
      ],
      "metadata": {
        "colab": {
          "base_uri": "https://localhost:8080/"
        },
        "id": "706uY-DOkje5",
        "outputId": "d5cacd87-a1a6-4712-d746-3e5295149da0"
      },
      "execution_count": 44,
      "outputs": [
        {
          "output_type": "stream",
          "name": "stdout",
          "text": [
            "The shape of arr3 is (2, 4)\n",
            "The shape of arr4 is (8,)\n",
            "[ 1  2  3  4 10 20 30 40]\n"
          ]
        }
      ]
    },
    {
      "cell_type": "code",
      "source": [
        "#Filttering\n",
        "arr=np.array([10,20,30,40,50,60,70,80])\n",
        "farr=arr[arr>40]\n",
        "print(arr)"
      ],
      "metadata": {
        "colab": {
          "base_uri": "https://localhost:8080/"
        },
        "id": "tnMW-LpilDh9",
        "outputId": "78f87b6d-746c-40df-b0e0-57767b500b41"
      },
      "execution_count": 45,
      "outputs": [
        {
          "output_type": "stream",
          "name": "stdout",
          "text": [
            "[10 20 30 40 50 60 70 80]\n"
          ]
        }
      ]
    }
  ]
}